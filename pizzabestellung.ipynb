{
  "nbformat": 4,
  "nbformat_minor": 0,
  "metadata": {
    "colab": {
      "provenance": [],
      "include_colab_link": true
    },
    "kernelspec": {
      "name": "python3",
      "display_name": "Python 3"
    },
    "language_info": {
      "name": "python"
    }
  },
  "cells": [
    {
      "cell_type": "markdown",
      "metadata": {
        "id": "view-in-github",
        "colab_type": "text"
      },
      "source": [
        "<a href=\"https://colab.research.google.com/github/charleenvong/pizza-bestellung/blob/main/pizzabestellung.ipynb\" target=\"_parent\"><img src=\"https://colab.research.google.com/assets/colab-badge.svg\" alt=\"Open In Colab\"/></a>"
      ]
    },
    {
      "cell_type": "code",
      "execution_count": 31,
      "metadata": {
        "colab": {
          "base_uri": "https://localhost:8080/",
          "height": 412
        },
        "id": "N7wNUP6lHE3q",
        "outputId": "6c803d67-0b11-4bcc-b51e-044756bff5b3"
      },
      "outputs": [
        {
          "output_type": "stream",
          "name": "stdout",
          "text": [
            "Requirement already satisfied: mesop in /usr/local/lib/python3.11/dist-packages (1.0.1)\n",
            "Requirement already satisfied: absl-py in /usr/local/lib/python3.11/dist-packages (from mesop) (1.4.0)\n",
            "Requirement already satisfied: deepdiff==6.* in /usr/local/lib/python3.11/dist-packages (from mesop) (6.7.1)\n",
            "Requirement already satisfied: flask in /usr/local/lib/python3.11/dist-packages (from mesop) (3.1.1)\n",
            "Requirement already satisfied: msgpack in /usr/local/lib/python3.11/dist-packages (from mesop) (1.1.0)\n",
            "Requirement already satisfied: protobuf in /usr/local/lib/python3.11/dist-packages (from mesop) (5.29.5)\n",
            "Requirement already satisfied: pydantic in /usr/local/lib/python3.11/dist-packages (from mesop) (2.11.5)\n",
            "Requirement already satisfied: python-dotenv in /usr/local/lib/python3.11/dist-packages (from mesop) (1.1.0)\n",
            "Requirement already satisfied: watchdog in /usr/local/lib/python3.11/dist-packages (from mesop) (6.0.0)\n",
            "Requirement already satisfied: werkzeug>=3.0.6 in /usr/local/lib/python3.11/dist-packages (from mesop) (3.1.3)\n",
            "Requirement already satisfied: ordered-set<4.2.0,>=4.0.2 in /usr/local/lib/python3.11/dist-packages (from deepdiff==6.*->mesop) (4.1.0)\n",
            "Requirement already satisfied: MarkupSafe>=2.1.1 in /usr/local/lib/python3.11/dist-packages (from werkzeug>=3.0.6->mesop) (3.0.2)\n",
            "Requirement already satisfied: blinker>=1.9.0 in /usr/local/lib/python3.11/dist-packages (from flask->mesop) (1.9.0)\n",
            "Requirement already satisfied: click>=8.1.3 in /usr/local/lib/python3.11/dist-packages (from flask->mesop) (8.2.1)\n",
            "Requirement already satisfied: itsdangerous>=2.2.0 in /usr/local/lib/python3.11/dist-packages (from flask->mesop) (2.2.0)\n",
            "Requirement already satisfied: jinja2>=3.1.2 in /usr/local/lib/python3.11/dist-packages (from flask->mesop) (3.1.6)\n",
            "Requirement already satisfied: annotated-types>=0.6.0 in /usr/local/lib/python3.11/dist-packages (from pydantic->mesop) (0.7.0)\n",
            "Requirement already satisfied: pydantic-core==2.33.2 in /usr/local/lib/python3.11/dist-packages (from pydantic->mesop) (2.33.2)\n",
            "Requirement already satisfied: typing-extensions>=4.12.2 in /usr/local/lib/python3.11/dist-packages (from pydantic->mesop) (4.14.0)\n",
            "Requirement already satisfied: typing-inspection>=0.4.0 in /usr/local/lib/python3.11/dist-packages (from pydantic->mesop) (0.4.1)\n",
            "https://32123-m-s-3u5vj80owwmgx-d.us-east1-1.prod.colab.dev/pizza\n"
          ]
        }
      ],
      "source": [
        "!pip install mesop\n",
        "\n",
        "import mesop as me\n",
        "import time\n",
        "from google.colab import output\n",
        "\n",
        "@me.page(path=\"/pizza\")\n",
        "def pizza_bestellung():\n",
        "    me.text(\"Pizza-Bestellung\", type=\"headline-5\")\n",
        "\n",
        "    me.text(\"Name:\")\n",
        "    me.input()\n",
        "\n",
        "    me.text(\"Größe: Klein | Mittel | Groß\")\n",
        "\n",
        "    me.text(\"Extras: Käse | Salami | Pilze\")\n",
        "\n",
        "    if me.button(\"Bestellen\"):\n",
        "        me.text(\"Danke für deine Bestellung!\")\n",
        "\n",
        "print(output.eval_js(\"google.colab.kernel.proxyPort(32123)\") + \"/pizza\")\n"
      ]
    }
  ]
}